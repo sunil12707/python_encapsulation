{
  "cells": [
    {
      "cell_type": "code",
      "execution_count": null,
      "id": "3bca068f-c962-4034-aa20-c997b24f475b",
      "metadata": {
        "id": "3bca068f-c962-4034-aa20-c997b24f475b"
      },
      "outputs": [],
      "source": [
        "class test :\n",
        "\n",
        "\n",
        "    def __init__(self , a, b ):\n",
        "        self.a = a\n",
        "        self.b = b"
      ]
    },
    {
      "cell_type": "code",
      "execution_count": null,
      "id": "68b38a39-e5f5-44de-8403-6fe8d4577470",
      "metadata": {
        "id": "68b38a39-e5f5-44de-8403-6fe8d4577470"
      },
      "outputs": [],
      "source": [
        "t = test(23,34)"
      ]
    },
    {
      "cell_type": "code",
      "source": [
        "t.a"
      ],
      "metadata": {
        "colab": {
          "base_uri": "https://localhost:8080/"
        },
        "id": "7Mpe2huoLro2",
        "outputId": "93ac8fa1-21db-4dae-9176-d563f96aea82"
      },
      "id": "7Mpe2huoLro2",
      "execution_count": null,
      "outputs": [
        {
          "output_type": "execute_result",
          "data": {
            "text/plain": [
              "23"
            ]
          },
          "metadata": {},
          "execution_count": 3
        }
      ]
    },
    {
      "cell_type": "code",
      "source": [
        "t.b"
      ],
      "metadata": {
        "colab": {
          "base_uri": "https://localhost:8080/"
        },
        "id": "_Z39u50g4U_R",
        "outputId": "368787ff-c594-4a74-8204-44e316b2ee95"
      },
      "id": "_Z39u50g4U_R",
      "execution_count": null,
      "outputs": [
        {
          "output_type": "execute_result",
          "data": {
            "text/plain": [
              "34"
            ]
          },
          "metadata": {},
          "execution_count": 4
        }
      ]
    },
    {
      "cell_type": "code",
      "execution_count": null,
      "id": "643bd816-8357-43b0-9c87-9a5c7e9556b5",
      "metadata": {
        "id": "643bd816-8357-43b0-9c87-9a5c7e9556b5"
      },
      "outputs": [],
      "source": [
        "t.a = 2345345"
      ]
    },
    {
      "cell_type": "code",
      "execution_count": null,
      "id": "7fbcb179-6533-4dbb-9834-7e138b323624",
      "metadata": {
        "id": "7fbcb179-6533-4dbb-9834-7e138b323624",
        "outputId": "f0d1abd9-3e14-4271-b6c8-554f70f12c82",
        "colab": {
          "base_uri": "https://localhost:8080/"
        }
      },
      "outputs": [
        {
          "output_type": "execute_result",
          "data": {
            "text/plain": [
              "2345345"
            ]
          },
          "metadata": {},
          "execution_count": 6
        }
      ],
      "source": [
        "t.a"
      ]
    },
    {
      "cell_type": "code",
      "source": [
        "# __year means hide this variable from the user"
      ],
      "metadata": {
        "id": "yiwgOr7RqO7I"
      },
      "id": "yiwgOr7RqO7I",
      "execution_count": null,
      "outputs": []
    },
    {
      "cell_type": "code",
      "execution_count": null,
      "id": "53379855-b48d-4c7c-9673-d490dd779205",
      "metadata": {
        "id": "53379855-b48d-4c7c-9673-d490dd779205"
      },
      "outputs": [],
      "source": [
        "class car :\n",
        "    def __init__(self , year , make , model, speed ) :\n",
        "\n",
        "        self.__year = year\n",
        "        self.__make = make\n",
        "        self.__model = model\n",
        "        self.__speed = 0\n",
        "\n"
      ]
    },
    {
      "cell_type": "code",
      "execution_count": null,
      "id": "be75eff7-659f-4e32-9513-86971fac409d",
      "metadata": {
        "id": "be75eff7-659f-4e32-9513-86971fac409d"
      },
      "outputs": [],
      "source": [
        "c = car(2021 , \"toyata\" , \"innova\" , 12)"
      ]
    },
    {
      "cell_type": "code",
      "source": [
        "c.year"
      ],
      "metadata": {
        "colab": {
          "base_uri": "https://localhost:8080/",
          "height": 175
        },
        "id": "5k4laOMqp6wC",
        "outputId": "61a34ff0-55de-4a97-f968-0df9b7588977"
      },
      "id": "5k4laOMqp6wC",
      "execution_count": null,
      "outputs": [
        {
          "output_type": "error",
          "ename": "AttributeError",
          "evalue": "ignored",
          "traceback": [
            "\u001b[0;31m---------------------------------------------------------------------------\u001b[0m",
            "\u001b[0;31mAttributeError\u001b[0m                            Traceback (most recent call last)",
            "\u001b[0;32m<ipython-input-10-03945b7a36ec>\u001b[0m in \u001b[0;36m<cell line: 1>\u001b[0;34m()\u001b[0m\n\u001b[0;32m----> 1\u001b[0;31m \u001b[0mc\u001b[0m\u001b[0;34m.\u001b[0m\u001b[0myear\u001b[0m\u001b[0;34m\u001b[0m\u001b[0;34m\u001b[0m\u001b[0m\n\u001b[0m",
            "\u001b[0;31mAttributeError\u001b[0m: 'car' object has no attribute 'year'"
          ]
        }
      ]
    },
    {
      "cell_type": "code",
      "source": [
        "c.__year"
      ],
      "metadata": {
        "colab": {
          "base_uri": "https://localhost:8080/",
          "height": 175
        },
        "id": "ylN2uPGPp927",
        "outputId": "b43fc84f-2b36-4c54-a280-1346064165f7"
      },
      "id": "ylN2uPGPp927",
      "execution_count": null,
      "outputs": [
        {
          "output_type": "error",
          "ename": "AttributeError",
          "evalue": "ignored",
          "traceback": [
            "\u001b[0;31m---------------------------------------------------------------------------\u001b[0m",
            "\u001b[0;31mAttributeError\u001b[0m                            Traceback (most recent call last)",
            "\u001b[0;32m<ipython-input-11-430a80f31ec3>\u001b[0m in \u001b[0;36m<cell line: 1>\u001b[0;34m()\u001b[0m\n\u001b[0;32m----> 1\u001b[0;31m \u001b[0mc\u001b[0m\u001b[0;34m.\u001b[0m\u001b[0m__year\u001b[0m\u001b[0;34m\u001b[0m\u001b[0;34m\u001b[0m\u001b[0m\n\u001b[0m",
            "\u001b[0;31mAttributeError\u001b[0m: 'car' object has no attribute '__year'"
          ]
        }
      ]
    },
    {
      "cell_type": "code",
      "execution_count": null,
      "id": "7af43f63-b40d-42c0-aeee-ce63f6c5ff0b",
      "metadata": {
        "id": "7af43f63-b40d-42c0-aeee-ce63f6c5ff0b",
        "outputId": "5f768a39-97f6-4648-bfb0-19f1a375d118",
        "colab": {
          "base_uri": "https://localhost:8080/"
        }
      },
      "outputs": [
        {
          "output_type": "execute_result",
          "data": {
            "text/plain": [
              "2021"
            ]
          },
          "metadata": {},
          "execution_count": 11
        }
      ],
      "source": [
        "c._car__year"
      ]
    },
    {
      "cell_type": "code",
      "source": [
        "class car :\n",
        "  def __init__(self , year , make , model, speed ) :\n",
        "    self.__year = year\n",
        "    self.__make = make\n",
        "    self.__model = model\n",
        "    self.__speed = 0\n",
        "  def set_speed(self,speed) :\n",
        "        self.__speed = 0 if speed < 0 else speed\n",
        "\n",
        "  def get_speed(self)  :\n",
        "        return self.__speed"
      ],
      "metadata": {
        "id": "_zW9bGPzq3W3"
      },
      "id": "_zW9bGPzq3W3",
      "execution_count": null,
      "outputs": []
    },
    {
      "cell_type": "code",
      "source": [
        "c = car(2021 , \"toyata\" , \"innova\" , 12)"
      ],
      "metadata": {
        "id": "simIgkgpNzCm"
      },
      "id": "simIgkgpNzCm",
      "execution_count": null,
      "outputs": []
    },
    {
      "cell_type": "code",
      "execution_count": null,
      "id": "23c532a9-177b-49e1-beab-8517cf30e93b",
      "metadata": {
        "id": "23c532a9-177b-49e1-beab-8517cf30e93b"
      },
      "outputs": [],
      "source": [
        "c.set_speed(-3245)"
      ]
    },
    {
      "cell_type": "code",
      "execution_count": null,
      "id": "9be5dbc9-e042-41c3-82d5-a4cd78fc4c57",
      "metadata": {
        "id": "9be5dbc9-e042-41c3-82d5-a4cd78fc4c57",
        "outputId": "b9062c7c-9973-43e5-f23b-fa705bef5285",
        "colab": {
          "base_uri": "https://localhost:8080/"
        }
      },
      "outputs": [
        {
          "output_type": "execute_result",
          "data": {
            "text/plain": [
              "0"
            ]
          },
          "metadata": {},
          "execution_count": 6
        }
      ],
      "source": [
        "c.get_speed()"
      ]
    },
    {
      "cell_type": "code",
      "execution_count": null,
      "id": "05fa69e0-c2f5-401e-9d31-779de8c3cc67",
      "metadata": {
        "id": "05fa69e0-c2f5-401e-9d31-779de8c3cc67"
      },
      "outputs": [],
      "source": [
        "c.set_speed(234)"
      ]
    },
    {
      "cell_type": "code",
      "execution_count": null,
      "id": "9280c23c-fefa-4913-9573-41bf21ed3bfd",
      "metadata": {
        "id": "9280c23c-fefa-4913-9573-41bf21ed3bfd",
        "outputId": "8bdf81a5-9d90-44bf-d7e3-6af063cc8321",
        "colab": {
          "base_uri": "https://localhost:8080/"
        }
      },
      "outputs": [
        {
          "output_type": "execute_result",
          "data": {
            "text/plain": [
              "234"
            ]
          },
          "metadata": {},
          "execution_count": 8
        }
      ],
      "source": [
        "c.get_speed()"
      ]
    },
    {
      "cell_type": "code",
      "execution_count": null,
      "id": "ffca1efa-a700-4c9f-aed7-c27ebe1a16e3",
      "metadata": {
        "id": "ffca1efa-a700-4c9f-aed7-c27ebe1a16e3"
      },
      "outputs": [],
      "source": [
        "class bank_account :\n",
        "    def __init__(self , balance) :\n",
        "        self.__balanace = balance\n",
        "\n",
        "    def deposit(self , amount) :\n",
        "        self.__balanace = self.__balanace + amount\n",
        "\n",
        "    def withdaw(self ,amount) :\n",
        "        if self.__balanace >= amount :\n",
        "            self.__balanace = self.__balanace - amount\n",
        "            return True\n",
        "        else :\n",
        "            return False\n",
        "\n",
        "    def get_banalnce(self):\n",
        "        return self.__balanace\n"
      ]
    },
    {
      "cell_type": "code",
      "execution_count": null,
      "id": "59a4a4b6-610a-414a-8aa4-dcc3c5b43145",
      "metadata": {
        "id": "59a4a4b6-610a-414a-8aa4-dcc3c5b43145"
      },
      "outputs": [],
      "source": [
        "sudh = bank_account(1000)"
      ]
    },
    {
      "cell_type": "code",
      "execution_count": null,
      "id": "1c1c86fe-1f4d-41e7-961c-078effe21152",
      "metadata": {
        "id": "1c1c86fe-1f4d-41e7-961c-078effe21152",
        "outputId": "e8d7566a-d438-4934-85b2-daa5c5088540",
        "colab": {
          "base_uri": "https://localhost:8080/"
        }
      },
      "outputs": [
        {
          "output_type": "execute_result",
          "data": {
            "text/plain": [
              "1000"
            ]
          },
          "metadata": {},
          "execution_count": 12
        }
      ],
      "source": [
        "sudh.get_banalnce()"
      ]
    },
    {
      "cell_type": "code",
      "execution_count": null,
      "id": "5fc6f3e3-406a-452f-b42d-79c956ee1662",
      "metadata": {
        "id": "5fc6f3e3-406a-452f-b42d-79c956ee1662"
      },
      "outputs": [],
      "source": [
        "sudh.deposit(5000)"
      ]
    },
    {
      "cell_type": "code",
      "execution_count": null,
      "id": "09d4e0dd-b52f-4359-ace5-8da621beb1a4",
      "metadata": {
        "id": "09d4e0dd-b52f-4359-ace5-8da621beb1a4",
        "outputId": "3463c221-a524-440c-c616-d887759d9e22",
        "colab": {
          "base_uri": "https://localhost:8080/"
        }
      },
      "outputs": [
        {
          "output_type": "execute_result",
          "data": {
            "text/plain": [
              "6000"
            ]
          },
          "metadata": {},
          "execution_count": 14
        }
      ],
      "source": [
        "sudh.get_banalnce()"
      ]
    },
    {
      "cell_type": "code",
      "execution_count": null,
      "id": "1d82bb14-275c-4098-9a3b-f253097b5277",
      "metadata": {
        "id": "1d82bb14-275c-4098-9a3b-f253097b5277"
      },
      "outputs": [],
      "source": [
        "sudh.deposit(1000)"
      ]
    },
    {
      "cell_type": "code",
      "execution_count": null,
      "id": "3f34a7a2-ce66-4afc-93cb-709809102caf",
      "metadata": {
        "id": "3f34a7a2-ce66-4afc-93cb-709809102caf",
        "outputId": "8c4ac860-2a1c-4515-9f41-dffc1ffd63bd",
        "colab": {
          "base_uri": "https://localhost:8080/"
        }
      },
      "outputs": [
        {
          "output_type": "execute_result",
          "data": {
            "text/plain": [
              "7000"
            ]
          },
          "metadata": {},
          "execution_count": 16
        }
      ],
      "source": [
        "sudh.get_banalnce()"
      ]
    },
    {
      "cell_type": "code",
      "execution_count": null,
      "id": "f476edd3-0106-430e-88fb-fd8e3ebc2898",
      "metadata": {
        "id": "f476edd3-0106-430e-88fb-fd8e3ebc2898",
        "outputId": "6f174ae7-e828-470c-f4c3-fc8ab76ebb39",
        "colab": {
          "base_uri": "https://localhost:8080/"
        }
      },
      "outputs": [
        {
          "output_type": "execute_result",
          "data": {
            "text/plain": [
              "False"
            ]
          },
          "metadata": {},
          "execution_count": 18
        }
      ],
      "source": [
        "sudh.withdaw(9000)"
      ]
    },
    {
      "cell_type": "code",
      "execution_count": null,
      "id": "b3c5b9a8-2156-4cd5-9d6a-bf7e4c7c1d5a",
      "metadata": {
        "id": "b3c5b9a8-2156-4cd5-9d6a-bf7e4c7c1d5a",
        "outputId": "ca840c43-4ab9-4d96-f7f2-70593e19a74f",
        "colab": {
          "base_uri": "https://localhost:8080/"
        }
      },
      "outputs": [
        {
          "output_type": "execute_result",
          "data": {
            "text/plain": [
              "True"
            ]
          },
          "metadata": {},
          "execution_count": 19
        }
      ],
      "source": [
        "sudh.withdaw(2000)"
      ]
    },
    {
      "cell_type": "code",
      "execution_count": null,
      "id": "aa871cd4-4c02-48dd-b1ef-a18195234eb9",
      "metadata": {
        "id": "aa871cd4-4c02-48dd-b1ef-a18195234eb9",
        "outputId": "6f7b4459-916a-4c22-a7fd-3c4c5e5808dd",
        "colab": {
          "base_uri": "https://localhost:8080/"
        }
      },
      "outputs": [
        {
          "output_type": "execute_result",
          "data": {
            "text/plain": [
              "5000"
            ]
          },
          "metadata": {},
          "execution_count": 20
        }
      ],
      "source": [
        "sudh.get_banalnce()"
      ]
    },
    {
      "cell_type": "code",
      "source": [
        "class MyClass:\n",
        "    def __init__(self):\n",
        "        self._a = 60\n",
        "\n",
        "    def get_a(self):\n",
        "        return self._a\n",
        "\n",
        "    def set_a(self, value):\n",
        "        self._a = value\n",
        "\n",
        "# Outside the class, we can still access the _a variable, but it is considered a private variable.\n",
        "obj = MyClass()\n",
        "print(obj.get_a())  # Output: 60\n",
        "obj._a = 42  # We can still access and modify it directly, but it's against the convention.\n",
        "print(obj.get_a())  # Output: 42\n"
      ],
      "metadata": {
        "id": "hWwQiGMT6zcK",
        "colab": {
          "base_uri": "https://localhost:8080/"
        },
        "outputId": "4872d3a8-f22c-4679-fcf4-722cdde42cdf"
      },
      "id": "hWwQiGMT6zcK",
      "execution_count": null,
      "outputs": [
        {
          "output_type": "stream",
          "name": "stdout",
          "text": [
            "60\n",
            "42\n"
          ]
        }
      ]
    },
    {
      "cell_type": "code",
      "source": [
        "class MyClass:\n",
        "    def __init__(self):\n",
        "        self.__b = 60\n",
        "\n",
        "    def get_b(self):\n",
        "        return self.__b\n",
        "\n",
        "    def set_b(self, value):\n",
        "        self.__b = value\n",
        "\n",
        "# Outside the class, the name of the variable is name-mangled to _MyClass__b\n",
        "obj = MyClass()\n",
        "print(obj.get_b())  # Output: 60\n",
        "obj.__b = 42  # This creates a new attribute '__b' in the object, not modifying the class's __b.\n",
        "print(obj.get_b())  # Output: 60 (the class's __b remains unchanged)\n",
        "print(obj.__b)  # Output: 42 (a new attribute '__b' is created in the object)\n",
        "print(obj._MyClass__b)  # Output: 60 (accessing the original class __b through name-mangled version)\n"
      ],
      "metadata": {
        "id": "SetKMuE6bgDE",
        "outputId": "ceef50d4-0818-4569-c280-0b9be05c61bb",
        "colab": {
          "base_uri": "https://localhost:8080/"
        }
      },
      "id": "SetKMuE6bgDE",
      "execution_count": null,
      "outputs": [
        {
          "output_type": "stream",
          "name": "stdout",
          "text": [
            "60\n",
            "60\n",
            "42\n",
            "60\n"
          ]
        }
      ]
    },
    {
      "cell_type": "code",
      "source": [
        "class test :\n",
        "\n",
        "\n",
        "    def __init__(self , a, b ):\n",
        "        self.a = a\n",
        "        self.b = b\n",
        "    def add(self):\n",
        "      print(self.a+self.b)\n",
        "x=test(5,6)\n",
        "x.add()"
      ],
      "metadata": {
        "colab": {
          "base_uri": "https://localhost:8080/"
        },
        "id": "TqH1QvUxLPzJ",
        "outputId": "0e86bcba-c52f-4fa3-cf59-84fe2309ac3b"
      },
      "id": "TqH1QvUxLPzJ",
      "execution_count": null,
      "outputs": [
        {
          "output_type": "stream",
          "name": "stdout",
          "text": [
            "11\n"
          ]
        }
      ]
    },
    {
      "cell_type": "code",
      "source": [
        "class test :\n",
        "\n",
        "\n",
        "    def __init__(self):\n",
        "        self.__a = 9\n",
        "        self.b = 5\n",
        "    def add(self):\n",
        "      print(self.__a+self.b)\n",
        "x=test()\n",
        "x.add()"
      ],
      "metadata": {
        "colab": {
          "base_uri": "https://localhost:8080/"
        },
        "id": "VlZXlaIxLU0i",
        "outputId": "137017ec-0745-4303-90a1-da60263fcceb"
      },
      "id": "VlZXlaIxLU0i",
      "execution_count": null,
      "outputs": [
        {
          "output_type": "stream",
          "name": "stdout",
          "text": [
            "14\n"
          ]
        }
      ]
    },
    {
      "cell_type": "code",
      "source": [
        "x.__a=\"677\""
      ],
      "metadata": {
        "id": "hAQL5nCCLp4U"
      },
      "id": "hAQL5nCCLp4U",
      "execution_count": null,
      "outputs": []
    },
    {
      "cell_type": "code",
      "source": [
        "x.add()"
      ],
      "metadata": {
        "colab": {
          "base_uri": "https://localhost:8080/"
        },
        "id": "YryhUN3fLxbI",
        "outputId": "7df16a5a-ad61-4d38-951e-d908ee33ac26"
      },
      "id": "YryhUN3fLxbI",
      "execution_count": null,
      "outputs": [
        {
          "output_type": "stream",
          "name": "stdout",
          "text": [
            "14\n"
          ]
        }
      ]
    },
    {
      "cell_type": "code",
      "source": [],
      "metadata": {
        "id": "Sxzh1pUUMq89"
      },
      "id": "Sxzh1pUUMq89",
      "execution_count": null,
      "outputs": []
    }
  ],
  "metadata": {
    "kernelspec": {
      "display_name": "Python 3 (ipykernel)",
      "language": "python",
      "name": "python3"
    },
    "language_info": {
      "codemirror_mode": {
        "name": "ipython",
        "version": 3
      },
      "file_extension": ".py",
      "mimetype": "text/x-python",
      "name": "python",
      "nbconvert_exporter": "python",
      "pygments_lexer": "ipython3",
      "version": "3.10.8"
    },
    "colab": {
      "provenance": []
    }
  },
  "nbformat": 4,
  "nbformat_minor": 5
}